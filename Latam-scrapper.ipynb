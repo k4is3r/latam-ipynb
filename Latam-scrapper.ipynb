{
 "cells": [
  {
   "cell_type": "code",
   "execution_count": 1,
   "metadata": {},
   "outputs": [],
   "source": [
    "from selenium import webdriver"
   ]
  },
  {
   "cell_type": "code",
   "execution_count": 2,
   "metadata": {},
   "outputs": [],
   "source": [
    "options = webdriver.ChromeOptions()\n",
    "options.add_argument('--incognito')\n",
    "driver = webdriver.Chrome(executable_path='./chromedriver', options=options)"
   ]
  },
  {
   "cell_type": "code",
   "execution_count": 3,
   "metadata": {},
   "outputs": [],
   "source": [
    "url = 'https://www.latam.com/en_us/apps/personas/booking?fecha1_dia=18&fecha1_anomes=2019-12&auAvailability=1&ida_vuelta=ida&vuelos_origen=Buenos%20Aires&from_city1=BUE&vuelos_destino=Madrid&to_city1=MAD&flex=1&vuelos_fecha_salida_ddmmaaaa=18/12/2019&cabina=Y&nadults=1&nchildren=0&ninfants=0&cod_promo=&stopover_outbound_days=0&stopover_inbound_days=0'"
   ]
  },
  {
   "cell_type": "code",
   "execution_count": 4,
   "metadata": {},
   "outputs": [],
   "source": [
    "driver.get(url)"
   ]
  },
  {
   "cell_type": "markdown",
   "metadata": {},
   "source": [
    "# Extrayendo informacion"
   ]
  },
  {
   "cell_type": "code",
   "execution_count": 5,
   "metadata": {},
   "outputs": [
    {
     "data": {
      "text/plain": [
       "[<selenium.webdriver.remote.webelement.WebElement (session=\"4db0637904b909a5d0312101079793b0\", element=\"546660ce-d876-4333-a8ec-3b854b7e10a0\")>,\n",
       " <selenium.webdriver.remote.webelement.WebElement (session=\"4db0637904b909a5d0312101079793b0\", element=\"0f4f2f4d-44bd-430c-a2e2-833703a2d71f\")>,\n",
       " <selenium.webdriver.remote.webelement.WebElement (session=\"4db0637904b909a5d0312101079793b0\", element=\"648142db-6e5a-4779-9810-fc18c0f66137\")>,\n",
       " <selenium.webdriver.remote.webelement.WebElement (session=\"4db0637904b909a5d0312101079793b0\", element=\"d4051fb7-4645-45bd-88c8-32d007281e54\")>,\n",
       " <selenium.webdriver.remote.webelement.WebElement (session=\"4db0637904b909a5d0312101079793b0\", element=\"c350f7fb-e637-4bfa-ad2c-1ec7b5499376\")>,\n",
       " <selenium.webdriver.remote.webelement.WebElement (session=\"4db0637904b909a5d0312101079793b0\", element=\"3247d41a-9a82-4aaf-8264-0d7a86f43088\")>,\n",
       " <selenium.webdriver.remote.webelement.WebElement (session=\"4db0637904b909a5d0312101079793b0\", element=\"6392023d-33c4-45da-bc20-124f7d8095b9\")>,\n",
       " <selenium.webdriver.remote.webelement.WebElement (session=\"4db0637904b909a5d0312101079793b0\", element=\"05de2644-4410-44ae-981c-08e6a9de0d29\")>,\n",
       " <selenium.webdriver.remote.webelement.WebElement (session=\"4db0637904b909a5d0312101079793b0\", element=\"dbd10fee-413c-4286-b4dd-58559c6659bc\")>,\n",
       " <selenium.webdriver.remote.webelement.WebElement (session=\"4db0637904b909a5d0312101079793b0\", element=\"4c8e7210-b94e-45cd-a755-3f57527bbe1c\")>,\n",
       " <selenium.webdriver.remote.webelement.WebElement (session=\"4db0637904b909a5d0312101079793b0\", element=\"85897426-ebeb-4c42-b8e3-cb7782592556\")>]"
      ]
     },
     "execution_count": 5,
     "metadata": {},
     "output_type": "execute_result"
    }
   ],
   "source": [
    "vuelos = driver.find_elements_by_xpath('//li[@class=\"flight with-airline\"]')\n",
    "vuelos"
   ]
  },
  {
   "cell_type": "code",
   "execution_count": 6,
   "metadata": {},
   "outputs": [
    {
     "data": {
      "text/plain": [
       "<selenium.webdriver.remote.webelement.WebElement (session=\"4db0637904b909a5d0312101079793b0\", element=\"546660ce-d876-4333-a8ec-3b854b7e10a0\")>"
      ]
     },
     "execution_count": 6,
     "metadata": {},
     "output_type": "execute_result"
    }
   ],
   "source": [
    "vuelo = vuelos[0]\n",
    "vuelo"
   ]
  },
  {
   "cell_type": "code",
   "execution_count": 7,
   "metadata": {},
   "outputs": [
    {
     "data": {
      "text/plain": [
       "'16:50'"
      ]
     },
     "execution_count": 7,
     "metadata": {},
     "output_type": "execute_result"
    }
   ],
   "source": [
    "hora_salida = vuelo.find_element_by_xpath('.//div[@class=\"departure\"]/time').get_attribute('datetime')\n",
    "hora_salida"
   ]
  },
  {
   "cell_type": "code",
   "execution_count": 8,
   "metadata": {},
   "outputs": [
    {
     "data": {
      "text/plain": [
       "'13:10'"
      ]
     },
     "execution_count": 8,
     "metadata": {},
     "output_type": "execute_result"
    }
   ],
   "source": [
    "hora_llegada = vuelo.find_element_by_xpath('.//div[@class=\"arrival\"]/time').get_attribute('datetime')\n",
    "hora_llegada"
   ]
  },
  {
   "cell_type": "code",
   "execution_count": 9,
   "metadata": {},
   "outputs": [
    {
     "data": {
      "text/plain": [
       "'PT16H20M'"
      ]
     },
     "execution_count": 9,
     "metadata": {},
     "output_type": "execute_result"
    }
   ],
   "source": [
    "duracion_vuelo = vuelo.find_element_by_xpath('.//span[@class=\"duration\"]/time').get_attribute('datetime')\n",
    "duracion_vuelo"
   ]
  },
  {
   "cell_type": "code",
   "execution_count": 10,
   "metadata": {},
   "outputs": [
    {
     "data": {
      "text/plain": [
       "<selenium.webdriver.remote.webelement.WebElement (session=\"4db0637904b909a5d0312101079793b0\", element=\"9da947b3-5bcb-456b-bb1a-ea35bf8db090\")>"
      ]
     },
     "execution_count": 10,
     "metadata": {},
     "output_type": "execute_result"
    }
   ],
   "source": [
    "boton_escalas = vuelo.find_element_by_xpath('.//div[@class=\"flight-summary-stops-description\"]/button')\n",
    "boton_escalas"
   ]
  },
  {
   "cell_type": "code",
   "execution_count": 11,
   "metadata": {},
   "outputs": [],
   "source": [
    "boton_escalas.click()"
   ]
  },
  {
   "cell_type": "code",
   "execution_count": 12,
   "metadata": {},
   "outputs": [
    {
     "data": {
      "text/plain": [
       "[<selenium.webdriver.remote.webelement.WebElement (session=\"4db0637904b909a5d0312101079793b0\", element=\"4a3605e7-d56a-49cc-8523-18a87a587a2c\")>,\n",
       " <selenium.webdriver.remote.webelement.WebElement (session=\"4db0637904b909a5d0312101079793b0\", element=\"d6a13c1d-0ad1-4f27-9ddf-aaa62e984af9\")>]"
      ]
     },
     "execution_count": 12,
     "metadata": {},
     "output_type": "execute_result"
    }
   ],
   "source": [
    "segmentos = vuelo.find_elements_by_xpath('//div[@class=\"segments-graph\"]/div[@class=\"segments-graph-segment\"]')\n",
    "segmentos"
   ]
  },
  {
   "cell_type": "code",
   "execution_count": 13,
   "metadata": {},
   "outputs": [],
   "source": [
    "escalas = len(segmentos) - 1"
   ]
  },
  {
   "cell_type": "code",
   "execution_count": 14,
   "metadata": {},
   "outputs": [],
   "source": [
    "segmento1 = segmentos[0]"
   ]
  },
  {
   "cell_type": "code",
   "execution_count": 15,
   "metadata": {},
   "outputs": [
    {
     "data": {
      "text/plain": [
       "'EZE'"
      ]
     },
     "execution_count": 15,
     "metadata": {},
     "output_type": "execute_result"
    }
   ],
   "source": [
    "segmento1.find_element_by_xpath('.//div[@class=\"departure\"]/span[@class=\"ground-point-name\"]').text"
   ]
  },
  {
   "cell_type": "code",
   "execution_count": 16,
   "metadata": {},
   "outputs": [
    {
     "data": {
      "text/plain": [
       "'16:50'"
      ]
     },
     "execution_count": 16,
     "metadata": {},
     "output_type": "execute_result"
    }
   ],
   "source": [
    "segmento1.find_element_by_xpath('.//div[@class=\"departure\"]/time').get_attribute('datetime')"
   ]
  },
  {
   "cell_type": "code",
   "execution_count": null,
   "metadata": {},
   "outputs": [],
   "source": [
    "segmento1.find_element_by_xpath('.//div[@class=\"arrival\"]/span[@class=\"ground-point-name\"]').text"
   ]
  },
  {
   "cell_type": "code",
   "execution_count": null,
   "metadata": {},
   "outputs": [],
   "source": [
    "segmento1.find_element_by_xpath('.//div[@class=\"arrival\"]/time').get_attribute('datetime')"
   ]
  },
  {
   "cell_type": "code",
   "execution_count": 17,
   "metadata": {},
   "outputs": [
    {
     "name": "stdout",
     "output_type": "stream",
     "text": [
      "Check In 1:  19:45\n",
      "Check In 2: 13:10\n"
     ]
    }
   ],
   "source": [
    "#Hora de llegada de cada escala\n",
    "checkin_1 = segmentos[0].find_element_by_xpath('.//div[@class=\"arrival\"]//time').get_attribute('datetime')\n",
    "checkin_2 = segmentos[1].find_element_by_xpath('.//div[@class=\"arrival\"]//time').get_attribute('datetime')\n",
    "print('Check In 1: ',checkin_1)\n",
    "print('Check In 2:', checkin_2)"
   ]
  },
  {
   "cell_type": "code",
   "execution_count": 18,
   "metadata": {},
   "outputs": [
    {
     "name": "stdout",
     "output_type": "stream",
     "text": [
      "Destination 1: Guarulhos Intl.\n",
      "Destination 2: Barajas Intl.\n"
     ]
    }
   ],
   "source": [
    "#Destion de cada escala\n",
    "destination_1 = segmentos[0].find_element_by_xpath('.//div[@class=\"arrival\"]//span[@class=\"ground-point-name\"]//abbr').get_attribute('title')\n",
    "destination_2 = segmentos[1].find_element_by_xpath('.//div[@class=\"arrival\"]//span[@class=\"ground-point-name\"]//abbr').get_attribute('title')\n",
    "print('Destination 1:', destination_1)\n",
    "print('Destination 2:', destination_2)"
   ]
  },
  {
   "cell_type": "code",
   "execution_count": 19,
   "metadata": {},
   "outputs": [
    {
     "name": "stdout",
     "output_type": "stream",
     "text": [
      "Duration 1:  PT2H55M\n",
      "Duration 2:  PT9H55M\n"
     ]
    }
   ],
   "source": [
    "#Duracion de cada vuelo\n",
    "duration_1 = segmentos[0].find_element_by_xpath('.//span[@class=\"duration flight-schedule-duration\"]//time').get_attribute('datetime')\n",
    "duration_2 = segmentos[1].find_element_by_xpath('.//span[@class=\"duration flight-schedule-duration\"]//time').get_attribute('datetime')\n",
    "print('Duration 1: ',duration_1)\n",
    "print('Duration 2: ',duration_2)"
   ]
  },
  {
   "cell_type": "code",
   "execution_count": 21,
   "metadata": {},
   "outputs": [
    {
     "name": "stdout",
     "output_type": "stream",
     "text": [
      "Delay 1:  PT3H30M\n"
     ]
    }
   ],
   "source": [
    "#demora de cada escala\n",
    "delay = segmentos[0].find_element_by_xpath('.//p[@class=\"stop-wait-time\"]//time').get_attribute('datetime')\n",
    "print('Delay 1: ', delay)"
   ]
  },
  {
   "cell_type": "code",
   "execution_count": 22,
   "metadata": {},
   "outputs": [
    {
     "name": "stdout",
     "output_type": "stream",
     "text": [
      "Number 1:  LA8013\n",
      "Number 2:  LA8064\n"
     ]
    }
   ],
   "source": [
    "#Numero de cada vuelo\n",
    "number_1 = segmentos[0].find_element_by_xpath('.//span[@class=\"equipment-airline-number\"]').text\n",
    "number_2 = segmentos[1].find_element_by_xpath('.//span[@class=\"equipment-airline-number\"]').text\n",
    "print('Number 1: ',number_1)\n",
    "print('Number 2: ',number_2)"
   ]
  },
  {
   "cell_type": "code",
   "execution_count": 23,
   "metadata": {},
   "outputs": [
    {
     "name": "stdout",
     "output_type": "stream",
     "text": [
      "Model 1:  Airbus 320-200\n",
      "Model 2:  Airbus 350-900\n"
     ]
    }
   ],
   "source": [
    "#modelo de cada vuelo\n",
    "model_1 = segmentos[0].find_element_by_xpath('.//span[@class=\"equipment-airline-material\"]').text\n",
    "model_2 = segmentos[1].find_element_by_xpath('.//span[@class=\"equipment-airline-material\"]').text\n",
    "print('Model 1: ',model_1)\n",
    "print('Model 2: ',model_2)"
   ]
  },
  {
   "cell_type": "code",
   "execution_count": 24,
   "metadata": {},
   "outputs": [],
   "source": [
    "driver.find_element_by_xpath('//div[@class=\"modal-dialog\"]//button[@class=\"close\"]').click()"
   ]
  },
  {
   "cell_type": "code",
   "execution_count": 28,
   "metadata": {},
   "outputs": [],
   "source": [
    "vuelo.click()"
   ]
  },
  {
   "cell_type": "code",
   "execution_count": 30,
   "metadata": {},
   "outputs": [
    {
     "data": {
      "text/plain": [
       "[<selenium.webdriver.remote.webelement.WebElement (session=\"4db0637904b909a5d0312101079793b0\", element=\"a47e4dc8-c3a2-4616-b60b-e42e7029431a\")>]"
      ]
     },
     "execution_count": 30,
     "metadata": {},
     "output_type": "execute_result"
    }
   ],
   "source": [
    "tarifas = vuelo.find_elements_by_xpath('.//div[@class=\"fares-table-container\"]//tfoot//td[contains(@class, \"fare-\")]')\n",
    "tarifas"
   ]
  },
  {
   "cell_type": "code",
   "execution_count": 32,
   "metadata": {},
   "outputs": [
    {
     "name": "stdout",
     "output_type": "stream",
     "text": [
      "{'TOP': {'moneda': 'US$', 'valor': '2,420'}}\n"
     ]
    }
   ],
   "source": [
    "precios = []\n",
    "for tarifa in tarifas:\n",
    "    nombre = tarifa.find_element_by_xpath('.//label').get_attribute('for')\n",
    "    moneda = tarifa.find_element_by_xpath('.//span[@class=\"price\"]/span[@class=\"currency-symbol\"]').text\n",
    "    valor = tarifa.find_element_by_xpath('.//span[@class=\"price\"]/span[@class=\"value\"]').text\n",
    "    dict_tarifa = {nombre:{'moneda':moneda, 'valor':valor}}\n",
    "    precios.append(dict_tarifa)\n",
    "    print(dict_tarifa)"
   ]
  },
  {
   "cell_type": "code",
   "execution_count": 33,
   "metadata": {},
   "outputs": [],
   "source": [
    "def obtener_precios(vuelo):\n",
    "    \"\"\"\n",
    "    Funcion que retorna una lista de diccionarios con las distintas tarifas\n",
    "    \"\"\"\n",
    "    precios = []\n",
    "    tarifas = vuelo.find_elements_by_xpath('.//div[@class=\"fares-table-container\"]//tfoot//td[contains(@class, \"fare-\")]')\n",
    "    for tarifa in tarifas:\n",
    "        nombre = tarifa.find_element_by_xpath('.//label').get_attribute('for')\n",
    "        moneda = tarifa.find_element_by_xpath('.//span[@class=\"price\"]/span[@class=\"currency-symbol\"]').text\n",
    "        valor = tarifa.find_element_by_xpath('.//span[@class=\"price\"]/span[@class=\"value\"]').text\n",
    "        dict_tarifa = {nombre:{'moneda':moneda, 'valor':valor}}\n",
    "        precios.append(dict_tarifa)\n",
    "        print(dict_tarifa)\n",
    "    return precios"
   ]
  },
  {
   "cell_type": "code",
   "execution_count": 35,
   "metadata": {},
   "outputs": [],
   "source": [
    "def obtener_datos_escala(vuelo):\n",
    "    \"\"\"\n",
    "    Funcion que retorna una lista de diccionarios con la \n",
    "    informacion de las escalas de cada vuelo\n",
    "    \"\"\"\n",
    "    segmentos = vuelo.find_elements_by_xpath('//div[@class=\"segments-graph\"]/div[@class=\"segments-graph-segment\"]')\n",
    "    info_escalar = []\n",
    "    for segmento in segmentos:\n",
    "        #origen\n",
    "        origen = segmento.find_element_by_xpath('.//div[@class=\"departure\"]/span[@class=\"ground-point-name\"]').text\n",
    "        #hora de salida\n",
    "        dep_time = segmento.find_element_by_xpath('.//div[@class=\"departure\"]/time').get_attribute('datetime')\n",
    "        #destino\n",
    "        destino = segmento.find_element_by_xpath('.//div[@class=\"arrival\"]/span[@class=\"ground-point-name\"]').text\n",
    "        #hora de llegada\n",
    "        arr_time = segmento.find_element_by_xpath('.//div[@class=\"arrival\"]/time').get_attribute('datetime')\n",
    "        #duracion\n",
    "        duracion_vuelo = segmento.find_element_by_xpath('.//span[@class=\"duration flight-schedule-duration\"]//time').get_attribute('datetime')\n",
    "        #numero de vuelo\n",
    "        numero_vuelo = segmento.find_element_by_xpath('.//span[@class=\"equipment-airline-number\"]').text\n",
    "        #modelo del avion\n",
    "        modelo_avion = segmento.find_element_by_xpath('.//span[@class=\"equipment-airline-material\"]').text\n",
    "        if segmento != segementos[-1]:\n",
    "            #duracion escala\n",
    "            duracion_escala = segmento.find_element_by_xpath('.//p[@class=\"stop-wait-time\"]//time').get_attribute('datetime')\n",
    "        else:\n",
    "            duracion_escala = ''\n",
    "        data_dict = {\n",
    "            'origen':origen,\n",
    "            'dep_time':dep_time,\n",
    "            'destino':destino,\n",
    "            'arr_time':arr_time,\n",
    "            'duracion_vuelo':duracion_vuelo,\n",
    "            'numero_vuelo':numero_vuelo,\n",
    "            'modelo_avion':modelo_avion,\n",
    "            'duracion_escala':duracion_escala\n",
    "        }\n",
    "        return data_dict\n",
    "            "
   ]
  },
  {
   "cell_type": "code",
   "execution_count": 36,
   "metadata": {},
   "outputs": [],
   "source": [
    "def obtener_tiempo(vuelo):\n",
    "    \"\"\"\n",
    "    Funcion que retorna un diccionario con los horarios de salida\n",
    "    y llegada de cada vuelo incluyendo la duracion\n",
    "    nota: la duracion del vuelo no es la hora de llegada - la hora de salida\n",
    "    poruqe puede haber diferencia de horarios entre el origen y el destino\n",
    "    \"\"\"\n",
    "    #hora de salida\n",
    "    salida = vuelo.find_element_by_xpath('.//div[@class=\"departure\"]/time').get_attribute('datetime')\n",
    "    #hota de llegada\n",
    "    llegada = vuelo.find_element_by_xpath('.//div[@class=\"arrival\"]/time').get_attribute('datetime')\n",
    "    #duracion\n",
    "    duracion = vuelo.find_element_by_xpath('.//span[@class=\"duration\"]/time').get_attribute('datetime')\n",
    "    tiempos = {\n",
    "        'hora_salida':salida,\n",
    "        'hora_llegada':llegada,\n",
    "        'duracion':duracion\n",
    "    }\n",
    "    return tiempos"
   ]
  },
  {
   "cell_type": "code",
   "execution_count": null,
   "metadata": {},
   "outputs": [],
   "source": [
    "def obtener_info(driver):\n",
    "    vuelos = driver.find_elements_by_xpath('//li[@class=\"flight with-airline\"]')\n",
    "    print(f'Se encontraron {len(vuelos)} vuelos')\n",
    "    print('Iniciando scrapping...')\n",
    "    info = []\n",
    "    for vuelo in vuelos:\n",
    "        #obtener tiempos\n",
    "        tiempos = obtener_tiempos(vuelo)\n",
    "        #escalas\n",
    "        "
   ]
  }
 ],
 "metadata": {
  "kernelspec": {
   "display_name": "Python 3",
   "language": "python",
   "name": "python3"
  },
  "language_info": {
   "codemirror_mode": {
    "name": "ipython",
    "version": 3
   },
   "file_extension": ".py",
   "mimetype": "text/x-python",
   "name": "python",
   "nbconvert_exporter": "python",
   "pygments_lexer": "ipython3",
   "version": "3.7.3"
  }
 },
 "nbformat": 4,
 "nbformat_minor": 2
}
