{
 "cells": [
  {
   "cell_type": "code",
   "execution_count": null,
   "metadata": {},
   "outputs": [],
   "source": [
    "from selenium import webdriver"
   ]
  },
  {
   "cell_type": "code",
   "execution_count": null,
   "metadata": {},
   "outputs": [],
   "source": [
    "options = webdriver.ChromeOptions()\n",
    "options.add_argument('--incognito')\n",
    "driver = webdriver.Chrome(executable_path='./chromedriver', options=options)"
   ]
  },
  {
   "cell_type": "code",
   "execution_count": null,
   "metadata": {},
   "outputs": [],
   "source": [
    "url = 'https://www.latam.com/en_us/apps/personas/booking?fecha1_dia=18&fecha1_anomes=2019-12&auAvailability=1&ida_vuelta=ida&vuelos_origen=Buenos%20Aires&from_city1=BUE&vuelos_destino=Madrid&to_city1=MAD&flex=1&vuelos_fecha_salida_ddmmaaaa=18/12/2019&cabina=Y&nadults=1&nchildren=0&ninfants=0&cod_promo=&stopover_outbound_days=0&stopover_inbound_days=0'"
   ]
  },
  {
   "cell_type": "code",
   "execution_count": null,
   "metadata": {},
   "outputs": [],
   "source": [
    "driver.get(url)"
   ]
  },
  {
   "cell_type": "markdown",
   "metadata": {},
   "source": [
    "# Extrayendo informacion"
   ]
  },
  {
   "cell_type": "code",
   "execution_count": null,
   "metadata": {},
   "outputs": [],
   "source": [
    "vuelos = driver.find_elements_by_xpath('//li[@class=\"flight with-airline\"]')\n",
    "vuelos"
   ]
  },
  {
   "cell_type": "code",
   "execution_count": null,
   "metadata": {},
   "outputs": [],
   "source": [
    "vuelo = vuelos[0]\n",
    "vuelo"
   ]
  },
  {
   "cell_type": "code",
   "execution_count": null,
   "metadata": {},
   "outputs": [],
   "source": [
    "hora_salida = vuelo.find_element_by_xpath('.//div[@class=\"departure\"]/time').get_attribute('datetime')\n",
    "hora_salida"
   ]
  },
  {
   "cell_type": "code",
   "execution_count": null,
   "metadata": {},
   "outputs": [],
   "source": [
    "hora_llegada = vuelo.find_element_by_xpath('.//div[@class=\"arrival\"]/time').get_attribute('datetime')\n",
    "hora_llegada"
   ]
  },
  {
   "cell_type": "code",
   "execution_count": null,
   "metadata": {},
   "outputs": [],
   "source": [
    "duracion_vuelo = vuelo.find_element_by_xpath('.//span[@class=\"duration\"]/time').get_attribute('datetime')\n",
    "duracion_vuelo"
   ]
  },
  {
   "cell_type": "code",
   "execution_count": null,
   "metadata": {},
   "outputs": [],
   "source": [
    "boton_escalas = vuelo.find_element_by_xpath('.//div[@class=\"flight-summary-stops-description\"]/button')\n",
    "boton_escalas"
   ]
  },
  {
   "cell_type": "code",
   "execution_count": null,
   "metadata": {},
   "outputs": [],
   "source": [
    "boton_escalas.click()"
   ]
  },
  {
   "cell_type": "code",
   "execution_count": null,
   "metadata": {},
   "outputs": [],
   "source": [
    "segmentos = vuelo.find_elements_by_xpath('//div[@class=\"segments-graph\"]/div[@class=\"segments-graph-segment\"]')\n",
    "segmentos"
   ]
  },
  {
   "cell_type": "code",
   "execution_count": null,
   "metadata": {},
   "outputs": [],
   "source": [
    "escalas = len(segmentos) - 1"
   ]
  },
  {
   "cell_type": "code",
   "execution_count": null,
   "metadata": {},
   "outputs": [],
   "source": [
    "segmento1 = segmentos[0]"
   ]
  },
  {
   "cell_type": "code",
   "execution_count": null,
   "metadata": {},
   "outputs": [],
   "source": [
    "segmento1.find_element_by_xpath('.//div[@class=\"departure\"]/span[@class=\"ground-point-name\"]').text"
   ]
  },
  {
   "cell_type": "code",
   "execution_count": null,
   "metadata": {},
   "outputs": [],
   "source": [
    "segmento1.find_element_by_xpath('.//div[@class=\"departure\"]/time').get_attribute('datetime')"
   ]
  },
  {
   "cell_type": "code",
   "execution_count": null,
   "metadata": {},
   "outputs": [],
   "source": [
    "segmento1.find_element_by_xpath('.//div[@class=\"arrival\"]/span[@class=\"ground-point-name\"]').text"
   ]
  },
  {
   "cell_type": "code",
   "execution_count": null,
   "metadata": {},
   "outputs": [],
   "source": [
    "segmento1.find_element_by_xpath('.//div[@class=\"arrival\"]/time').get_attribute('datetime')"
   ]
  },
  {
   "cell_type": "code",
   "execution_count": null,
   "metadata": {},
   "outputs": [],
   "source": [
    "#Hora de llegada de cada escala\n",
    "checkin_1 = segmentos[0].find_element_by_xpath('.//div[@class=\"arrival\"]//time').get_attribute('datetime')\n",
    "checkin_2 = segmentos[1].find_element_by_xpath('.//div[@class=\"arrival\"]//time').get_attribute('datetime')\n",
    "print('Check In 1: ',checkin_1)\n",
    "print('Check In 2:', checkin_2)"
   ]
  },
  {
   "cell_type": "code",
   "execution_count": null,
   "metadata": {},
   "outputs": [],
   "source": [
    "#Destion de cada escala\n",
    "destination_1 = segmentos[0].find_element_by_xpath('.//div[@class=\"arrival\"]//span[@class=\"ground-point-name\"]//abbr').get_attribute('title')\n",
    "destination_2 = segmentos[1].find_element_by_xpath('.//div[@class=\"arrival\"]//span[@class=\"ground-point-name\"]//abbr').get_attribute('title')\n",
    "print('Destination 1:', destination_1)\n",
    "print('Destination 2:', destination_2)"
   ]
  },
  {
   "cell_type": "code",
   "execution_count": null,
   "metadata": {},
   "outputs": [],
   "source": [
    "#Duracion de cada vuelo\n",
    "duration_1 = segmentos[0].find_element_by_xpath('.//span[@class=\"duration flight-schedule-duration\"]//time').get_attribute('datetime')\n",
    "duration_2 = segmentos[1].find_element_by_xpath('.//span[@class=\"duration flight-schedule-duration\"]//time').get_attribute('datetime')\n",
    "print('Duration 1: ',duration_1)\n",
    "print('Duration 2: ',duration_2)"
   ]
  },
  {
   "cell_type": "code",
   "execution_count": null,
   "metadata": {},
   "outputs": [],
   "source": [
    "#demora de cada escala\n",
    "delay = segmentos[0].find_element_by_xpath('.//p[@class=\"stop-wait-time\"]//time').get_attribute('datetime')\n",
    "print('Delay 1: ', delay)"
   ]
  },
  {
   "cell_type": "code",
   "execution_count": null,
   "metadata": {},
   "outputs": [],
   "source": [
    "#Numero de cada vuelo\n",
    "number_1 = segmentos[0].find_element_by_xpath('.//span[@class=\"equipment-airline-number\"]').text\n",
    "number_2 = segmentos[1].find_element_by_xpath('.//span[@class=\"equipment-airline-number\"]').text\n",
    "print('Number 1: ',number_1)\n",
    "print('Number 2: ',number_2)"
   ]
  },
  {
   "cell_type": "code",
   "execution_count": null,
   "metadata": {},
   "outputs": [],
   "source": [
    "#modelo de cada vuelo\n",
    "model_1 = segmentos[0].find_element_by_xpath('.//span[@class=\"equipment-airline-material\"]').text\n",
    "model_2 = segmentos[1].find_element_by_xpath('.//span[@class=\"equipment-airline-material\"]').text\n",
    "print('Model 1: ',model_1)\n",
    "print('Model 2: ',model_2)"
   ]
  },
  {
   "cell_type": "code",
   "execution_count": null,
   "metadata": {},
   "outputs": [],
   "source": [
    "driver.find_element_by_xpath('//div[@class=\"modal-dialog\"]//button[@class=\"close\"]').click()"
   ]
  },
  {
   "cell_type": "code",
   "execution_count": null,
   "metadata": {},
   "outputs": [],
   "source": [
    "vuelo.click()"
   ]
  },
  {
   "cell_type": "code",
   "execution_count": null,
   "metadata": {},
   "outputs": [],
   "source": [
    "tarifas = vuelo.find_elements_by_xpath('.//div[@class=\"fares-table-container\"]//tfoot//td[contains(@class, \"fare-\")]')\n",
    "tarifas"
   ]
  },
  {
   "cell_type": "code",
   "execution_count": null,
   "metadata": {},
   "outputs": [],
   "source": [
    "precios = []\n",
    "for tarifa in tarifas:\n",
    "    nombre = tarifa.find_element_by_xpath('.//label').get_attribute('for')\n",
    "    moneda = tarifa.find_element_by_xpath('.//span[@class=\"price\"]/span[@class=\"currency-symbol\"]').text\n",
    "    valor = tarifa.find_element_by_xpath('.//span[@class=\"price\"]/span[@class=\"value\"]').text\n",
    "    dict_tarifa = {nombre:{'moneda':moneda, 'valor':valor}}\n",
    "    precios.append(dict_tarifa)\n",
    "    print(dict_tarifa)"
   ]
  },
  {
   "cell_type": "code",
   "execution_count": 1,
   "metadata": {},
   "outputs": [],
   "source": [
    "def obtener_precios(vuelo):\n",
    "    \"\"\"\n",
    "    Funcion que retorna una lista de diccionarios con las distintas tarifas\n",
    "    \"\"\"\n",
    "    precios = []\n",
    "    tarifas = vuelo.find_elements_by_xpath('.//div[@class=\"fares-table-container\"]//tfoot//td[contains(@class, \"fare-\")]')\n",
    "    for tarifa in tarifas:\n",
    "        nombre = tarifa.find_element_by_xpath('.//label').get_attribute('for')\n",
    "        moneda = tarifa.find_element_by_xpath('.//span[@class=\"price\"]/span[@class=\"currency-symbol\"]').text\n",
    "        valor = tarifa.find_element_by_xpath('.//span[@class=\"price\"]/span[@class=\"value\"]').text\n",
    "        dict_tarifa = {nombre:{'moneda':moneda, 'valor':valor}}\n",
    "        precios.append(dict_tarifa)\n",
    "    return precios"
   ]
  },
  {
   "cell_type": "code",
   "execution_count": 2,
   "metadata": {},
   "outputs": [],
   "source": [
    "def obtener_datos_escala(vuelo):\n",
    "    \"\"\"\n",
    "    Funcion que retorna una lista de diccionarios con la \n",
    "    informacion de las escalas de cada vuelo\n",
    "    \"\"\"\n",
    "    segmentos = vuelo.find_elements_by_xpath('//div[@class=\"segments-graph\"]/div[@class=\"segments-graph-segment\"]')\n",
    "    info_escalas = []\n",
    "    for segmento in segmentos:\n",
    "        #origen\n",
    "        origen = segmento.find_element_by_xpath('.//div[@class=\"departure\"]/span[@class=\"ground-point-name\"]').text\n",
    "        #hora de salida\n",
    "        dep_time = segmento.find_element_by_xpath('.//div[@class=\"departure\"]/time').get_attribute('datetime')\n",
    "        #destino\n",
    "        destino = segmento.find_element_by_xpath('.//div[@class=\"arrival\"]/span[@class=\"ground-point-name\"]').text\n",
    "        #hora de llegada\n",
    "        arr_time = segmento.find_element_by_xpath('.//div[@class=\"arrival\"]/time').get_attribute('datetime')\n",
    "        #duracion\n",
    "        duracion_vuelo = segmento.find_element_by_xpath('.//span[@class=\"duration flight-schedule-duration\"]//time').get_attribute('datetime')\n",
    "        #numero de vuelo\n",
    "        numero_vuelo = segmento.find_element_by_xpath('.//span[@class=\"equipment-airline-number\"]').text\n",
    "        #modelo del avion\n",
    "        modelo_avion = segmento.find_element_by_xpath('.//span[@class=\"equipment-airline-material\"]').text\n",
    "        if segmento != segmentos[-1]:\n",
    "            #duracion escala\n",
    "            duracion_escala = segmento.find_element_by_xpath('.//div[@class=\"stop connection\"]//p[@class=\"stop-wait-time\"]//time').get_attribute('datetime')\n",
    "        else:\n",
    "            duracion_escala = ''\n",
    "        data_dict = {\n",
    "            'origen':origen,\n",
    "            'dep_time':dep_time,\n",
    "            'destino':destino,\n",
    "            'arr_time':arr_time,\n",
    "            'duracion_vuelo':duracion_vuelo,\n",
    "            'numero_vuelo':numero_vuelo,\n",
    "            'modelo_avion':modelo_avion,\n",
    "            'duracion_escala':duracion_escala\n",
    "        }\n",
    "        info_escalas.append(data_dict)\n",
    "        return info_escalas\n",
    "            "
   ]
  },
  {
   "cell_type": "code",
   "execution_count": 3,
   "metadata": {},
   "outputs": [],
   "source": [
    "def obtener_tiempo(vuelo):\n",
    "    \"\"\"\n",
    "    Funcion que retorna un diccionario con los horarios de salida\n",
    "    y llegada de cada vuelo incluyendo la duracion\n",
    "    nota: la duracion del vuelo no es la hora de llegada - la hora de salida\n",
    "    poruqe puede haber diferencia de horarios entre el origen y el destino\n",
    "    \"\"\"\n",
    "    #hora de salida\n",
    "    salida = vuelo.find_element_by_xpath('.//div[@class=\"departure\"]/time').get_attribute('datetime')\n",
    "    #hota de llegada\n",
    "    llegada = vuelo.find_element_by_xpath('.//div[@class=\"arrival\"]/time').get_attribute('datetime')\n",
    "    #duracion\n",
    "    duracion = vuelo.find_element_by_xpath('.//span[@class=\"duration\"]/time').get_attribute('datetime')\n",
    "    tiempos = {\n",
    "        'hora_salida':salida,\n",
    "        'hora_llegada':llegada,\n",
    "        'duracion':duracion\n",
    "    }\n",
    "    return tiempos"
   ]
  },
  {
   "cell_type": "code",
   "execution_count": 4,
   "metadata": {},
   "outputs": [],
   "source": [
    "def obtener_info(driver):\n",
    "    vuelos = driver.find_elements_by_xpath('//li[@class=\"flight with-airline\"]')\n",
    "    print(f'Se encontraron {len(vuelos)} vuelos')\n",
    "    print('Iniciando scrapping...')\n",
    "    info = []\n",
    "    for vuelo in vuelos:\n",
    "        #obtener tiempos\n",
    "        tiempos = obtener_tiempo(vuelo)\n",
    "        #escalas\n",
    "        vuelo.find_element_by_xpath('.//div[@class=\"flight-summary-stops-description\"]/button').click()\n",
    "        escalas = obtener_datos_escala(vuelo)\n",
    "        #close modal\n",
    "        driver.find_element_by_xpath('//div[@class=\"modal-dialog\"]//button[@class=\"close\"]').click()\n",
    "        #precios\n",
    "        vuelo.click()\n",
    "        precios = obtener_precios(vuelo)\n",
    "        vuelo.click()\n",
    "        info.append({\n",
    "            'precios':precios,\n",
    "            'tiempos':tiempos,\n",
    "            'escalas':escalas\n",
    "        })\n",
    "    return info"
   ]
  },
  {
   "cell_type": "code",
   "execution_count": 5,
   "metadata": {},
   "outputs": [],
   "source": [
    "import time"
   ]
  },
  {
   "cell_type": "code",
   "execution_count": 9,
   "metadata": {},
   "outputs": [],
   "source": [
    "from selenium import webdriver\n",
    "from selenium.webdriver.support.ui import WebDriverWait\n",
    "from selenium.webdriver.support import expected_conditions as EC\n",
    "from selenium.webdriver.common.by import By\n",
    "from selenium.common.exceptions import TimeoutException"
   ]
  },
  {
   "cell_type": "code",
   "execution_count": 10,
   "metadata": {},
   "outputs": [
    {
     "name": "stdout",
     "output_type": "stream",
     "text": [
      "La pagina termino de cargar\n",
      "Se encontraron 10 vuelos\n",
      "Iniciando scrapping...\n"
     ]
    }
   ],
   "source": [
    "options = webdriver.ChromeOptions()\n",
    "options.add_argument('--incognito')\n",
    "driver = webdriver.Chrome(executable_path='./chromedriver', options=options)\n",
    "url = 'https://www.latam.com/en_us/apps/personas/booking?fecha1_dia=18&fecha1_anomes=2019-12&auAvailability=1&ida_vuelta=ida&vuelos_origen=Buenos%20Aires&from_city1=BUE&vuelos_destino=Madrid&to_city1=MAD&flex=1&vuelos_fecha_salida_ddmmaaaa=18/12/2019&cabina=Y&nadults=1&nchildren=0&ninfants=0&cod_promo=&stopover_outbound_days=0&stopover_inbound_days=0'\n",
    "driver.get(url)\n",
    "delay = 30\n",
    "try:\n",
    "    vuelo = WebDriverWait(driver, delay).until(EC.presence_of_element_located((By.XPATH, '//li[@class=\"flight with-airline\"]')))\n",
    "    print('La pagina termino de cargar')\n",
    "    info_vuelos = obtener_info(driver)\n",
    "                                        \n",
    "except TimeoutException:\n",
    "    print('La pagina tardo demasiado en cargar')\n",
    "    info_vuelos = []\n",
    "driver.close()"
   ]
  },
  {
   "cell_type": "code",
   "execution_count": 11,
   "metadata": {},
   "outputs": [
    {
     "data": {
      "text/plain": [
       "[{'precios': [{'TOP': {'moneda': 'US$', 'valor': '2,420'}}],\n",
       "  'tiempos': {'hora_salida': '16:15',\n",
       "   'hora_llegada': '13:10',\n",
       "   'duracion': 'PT16H55M'},\n",
       "  'escalas': [{'origen': 'EZE',\n",
       "    'dep_time': '16:15',\n",
       "    'destino': 'GRU',\n",
       "    'arr_time': '19:10',\n",
       "    'duracion_vuelo': 'PT2H55M',\n",
       "    'numero_vuelo': 'LA8011',\n",
       "    'modelo_avion': 'Airbus 320-200',\n",
       "    'duracion_escala': 'PT4H5M'}]},\n",
       " {'precios': [{'TOP': {'moneda': 'US$', 'valor': '2,420'}}],\n",
       "  'tiempos': {'hora_salida': '12:25',\n",
       "   'hora_llegada': '13:10',\n",
       "   'duracion': 'PT20H45M'},\n",
       "  'escalas': [{'origen': 'EZE',\n",
       "    'dep_time': '12:25',\n",
       "    'destino': 'GRU',\n",
       "    'arr_time': '15:10',\n",
       "    'duracion_vuelo': 'PT2H45M',\n",
       "    'numero_vuelo': 'LA8009',\n",
       "    'modelo_avion': 'Airbus 321',\n",
       "    'duracion_escala': 'PT8H5M'}]},\n",
       " {'precios': [{'PLUS': {'moneda': 'US$', 'valor': '1,613'}},\n",
       "   {'TOP': {'moneda': 'US$', 'valor': '1,774'}}],\n",
       "  'tiempos': {'hora_salida': '08:35',\n",
       "   'hora_llegada': '12:50',\n",
       "   'duracion': 'PT24H15M'},\n",
       "  'escalas': [{'origen': 'EZE',\n",
       "    'dep_time': '08:35',\n",
       "    'destino': 'SCL',\n",
       "    'arr_time': '10:50',\n",
       "    'duracion_vuelo': 'PT2H15M',\n",
       "    'numero_vuelo': 'LA7825',\n",
       "    'modelo_avion': 'Boeing 767-300',\n",
       "    'duracion_escala': 'PT9H20M'}]},\n",
       " {'precios': [{'PLUS': {'moneda': '', 'valor': '2,016'}},\n",
       "   {'TOP': {'moneda': 'US$', 'valor': '2,176'}}],\n",
       "  'tiempos': {'hora_salida': '07:40',\n",
       "   'hora_llegada': '13:10',\n",
       "   'duracion': 'PT25H30M'},\n",
       "  'escalas': [{'origen': 'EZE',\n",
       "    'dep_time': '07:40',\n",
       "    'destino': 'GRU',\n",
       "    'arr_time': '10:15',\n",
       "    'duracion_vuelo': 'PT2H35M',\n",
       "    'numero_vuelo': 'LA8015',\n",
       "    'modelo_avion': 'Airbus 320-200',\n",
       "    'duracion_escala': 'PT13H'}]},\n",
       " {'precios': [{'TOP': {'moneda': 'US$', 'valor': '2,420'}}],\n",
       "  'tiempos': {'hora_salida': '15:30',\n",
       "   'hora_llegada': '13:10',\n",
       "   'duracion': 'PT17H40M'},\n",
       "  'escalas': [{'origen': 'AEP',\n",
       "    'dep_time': '15:30',\n",
       "    'destino': 'COR',\n",
       "    'arr_time': '16:55',\n",
       "    'duracion_vuelo': 'PT1H25M',\n",
       "    'numero_vuelo': 'LA7606',\n",
       "    'modelo_avion': 'Airbus 320-200',\n",
       "    'duracion_escala': 'PT1H50M'}]},\n",
       " {'precios': [{'TOP': {'moneda': 'US$', 'valor': '2,420'}}],\n",
       "  'tiempos': {'hora_salida': '15:30',\n",
       "   'hora_llegada': '13:10',\n",
       "   'duracion': 'PT17H40M'},\n",
       "  'escalas': [{'origen': 'AEP',\n",
       "    'dep_time': '15:30',\n",
       "    'destino': 'COR',\n",
       "    'arr_time': '16:55',\n",
       "    'duracion_vuelo': 'PT1H25M',\n",
       "    'numero_vuelo': 'LA7606',\n",
       "    'modelo_avion': 'Airbus 320-200',\n",
       "    'duracion_escala': 'PT1H10M'}]},\n",
       " {'precios': [{'TOP': {'moneda': 'US$', 'valor': '2,420'}}],\n",
       "  'tiempos': {'hora_salida': '08:35',\n",
       "   'hora_llegada': '06:25',\n",
       "   'duracion': 'PT17H50M'},\n",
       "  'escalas': [{'origen': 'EZE',\n",
       "    'dep_time': '08:35',\n",
       "    'destino': 'SCL',\n",
       "    'arr_time': '10:50',\n",
       "    'duracion_vuelo': 'PT2H15M',\n",
       "    'numero_vuelo': 'LA7825',\n",
       "    'modelo_avion': 'Boeing 767-300',\n",
       "    'duracion_escala': 'PT2H40M'}]},\n",
       " {'precios': [{'PLUS': {'moneda': 'US$', 'valor': '1,336'}},\n",
       "   {'TOP': {'moneda': 'US$', 'valor': '1,774'}}],\n",
       "  'tiempos': {'hora_salida': '05:50',\n",
       "   'hora_llegada': '06:25',\n",
       "   'duracion': 'PT20H35M'},\n",
       "  'escalas': [{'origen': 'EZE',\n",
       "    'dep_time': '05:50',\n",
       "    'destino': 'SCL',\n",
       "    'arr_time': '08:08',\n",
       "    'duracion_vuelo': 'PT2H18M',\n",
       "    'numero_vuelo': 'LA468',\n",
       "    'modelo_avion': 'Airbus 320-200',\n",
       "    'duracion_escala': 'PT5H22M'}]},\n",
       " {'precios': [{'TOP': {'moneda': 'US$', 'valor': '2,458'}}],\n",
       "  'tiempos': {'hora_salida': '12:25',\n",
       "   'hora_llegada': '10:10',\n",
       "   'duracion': 'PT17H45M'},\n",
       "  'escalas': [{'origen': 'EZE',\n",
       "    'dep_time': '12:25',\n",
       "    'destino': 'GRU',\n",
       "    'arr_time': '15:10',\n",
       "    'duracion_vuelo': 'PT2H45M',\n",
       "    'numero_vuelo': 'LA8009',\n",
       "    'modelo_avion': 'Airbus 321',\n",
       "    'duracion_escala': 'PT1H50M'}]},\n",
       " {'precios': [{'TOP': {'moneda': 'US$', 'valor': '3,153'}}],\n",
       "  'tiempos': {'hora_salida': '12:25',\n",
       "   'hora_llegada': '10:45',\n",
       "   'duracion': 'PT18H20M'},\n",
       "  'escalas': [{'origen': 'EZE',\n",
       "    'dep_time': '12:25',\n",
       "    'destino': 'GRU',\n",
       "    'arr_time': '15:10',\n",
       "    'duracion_vuelo': 'PT2H45M',\n",
       "    'numero_vuelo': 'LA8009',\n",
       "    'modelo_avion': 'Airbus 321',\n",
       "    'duracion_escala': 'PT2H20M'}]}]"
      ]
     },
     "execution_count": 11,
     "metadata": {},
     "output_type": "execute_result"
    }
   ],
   "source": [
    "info_vuelos"
   ]
  },
  {
   "cell_type": "code",
   "execution_count": null,
   "metadata": {},
   "outputs": [],
   "source": []
  }
 ],
 "metadata": {
  "kernelspec": {
   "display_name": "Python 3",
   "language": "python",
   "name": "python3"
  },
  "language_info": {
   "codemirror_mode": {
    "name": "ipython",
    "version": 3
   },
   "file_extension": ".py",
   "mimetype": "text/x-python",
   "name": "python",
   "nbconvert_exporter": "python",
   "pygments_lexer": "ipython3",
   "version": "3.7.3"
  }
 },
 "nbformat": 4,
 "nbformat_minor": 2
}
